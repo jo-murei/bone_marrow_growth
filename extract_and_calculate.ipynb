{
 "cells": [
  {
   "cell_type": "code",
   "execution_count": 1,
   "id": "c41557c3",
   "metadata": {},
   "outputs": [],
   "source": [
    "import os\n",
    "import numpy as np\n",
    "import re\n",
    "import numpy as np\n",
    "import math"
   ]
  },
  {
   "cell_type": "code",
   "execution_count": 2,
   "id": "d8b42306",
   "metadata": {},
   "outputs": [],
   "source": [
    "os.chdir(\"./label\")"
   ]
  },
  {
   "cell_type": "code",
   "execution_count": 3,
   "id": "82c7a257",
   "metadata": {},
   "outputs": [],
   "source": [
    "file_list = os.listdir(\".\")"
   ]
  },
  {
   "cell_type": "code",
   "execution_count": 4,
   "id": "c6fc95ad",
   "metadata": {},
   "outputs": [
    {
     "data": {
      "text/plain": [
       "2"
      ]
     },
     "execution_count": 4,
     "metadata": {},
     "output_type": "execute_result"
    }
   ],
   "source": [
    "len(file_list)"
   ]
  },
  {
   "cell_type": "code",
   "execution_count": 5,
   "id": "d2297e36",
   "metadata": {},
   "outputs": [
    {
     "data": {
      "text/plain": [
       "['c2_new.txt', '新建文件夹']"
      ]
     },
     "execution_count": 5,
     "metadata": {},
     "output_type": "execute_result"
    }
   ],
   "source": [
    "file_list"
   ]
  },
  {
   "cell_type": "code",
   "execution_count": 6,
   "id": "ee931db5",
   "metadata": {},
   "outputs": [],
   "source": [
    "def calculat_bar(x,y,j,k):\n",
    "    delta = j - x\n",
    "    bar = 100/delta\n",
    "    return bar"
   ]
  },
  {
   "cell_type": "markdown",
   "id": "7693c478",
   "metadata": {},
   "source": [
    "wt1_down_cortial_.txt 1535.91,1403.69;1829.35,1404.24"
   ]
  },
  {
   "cell_type": "markdown",
   "id": "ebe8cc07",
   "metadata": {},
   "source": [
    "0ko3_cortical_3_graph 1610.48,1376.26;1904.54,1378.15\" z_order=\"0\">"
   ]
  },
  {
   "cell_type": "markdown",
   "id": "c45ef6e5",
   "metadata": {},
   "source": [
    "1ko3_trebecular_3_graph 1561.38,1384.66;1855.37,1384.66"
   ]
  },
  {
   "cell_type": "markdown",
   "id": "6c19ab35",
   "metadata": {},
   "source": [
    "2wt1_cortical_3graph.txt 1513.04,172.11;1806.20,172.11"
   ]
  },
  {
   "cell_type": "markdown",
   "id": "60bcb2d1",
   "metadata": {},
   "source": [
    "3wt1_trebecular_3_graph.txt 1576.94,1375.17;1869.88,1372.91"
   ]
  },
  {
   "cell_type": "markdown",
   "id": "52dbf5b4",
   "metadata": {},
   "source": [
    "4wt2_cortical_3_graph.txt 1604.20,1384.78;1898.26,1383.65"
   ]
  },
  {
   "cell_type": "markdown",
   "id": "588fec2e",
   "metadata": {},
   "source": [
    "5wt2_trebecular_3_graph.txt 1580.98,1395.02;1877.87,1395.96"
   ]
  },
  {
   "cell_type": "markdown",
   "id": "e0dfd3cf",
   "metadata": {},
   "source": [
    "6wt4_cortical_3_graph.txt 1615.63,1410.08;1910.95,1410.87"
   ]
  },
  {
   "cell_type": "markdown",
   "id": "9e9cc3cd",
   "metadata": {},
   "source": [
    "7wt4_trebecular_3_graph.txt 1580.03,1407.13;1875.11,1406.58"
   ]
  },
  {
   "cell_type": "markdown",
   "id": "66b7c970",
   "metadata": {},
   "source": [
    "8wt4_up_trebecular_3_graph.txt 1570.39,1388.96;1864.14,1388.96"
   ]
  },
  {
   "cell_type": "markdown",
   "id": "6b3ef134",
   "metadata": {},
   "source": [
    "9wt5_cortical_3_graph.txt 1589.30,1410.16,1882.53,1408.85"
   ]
  },
  {
   "cell_type": "markdown",
   "id": "2dd77b4f",
   "metadata": {},
   "source": [
    "10wt5_up_trebecular_3_graph.txt 1580.41,1403.60;1875.42,1404.54"
   ]
  },
  {
   "cell_type": "markdown",
   "id": "55e88a25",
   "metadata": {},
   "source": [
    "11 wt5_trebecular_3_graph.txt 1568.80,1374.26;1861.73,1375.40"
   ]
  },
  {
   "cell_type": "code",
   "execution_count": 11,
   "id": "edfee003",
   "metadata": {},
   "outputs": [],
   "source": [
    "bar = calculat_bar(1513.04,172.11,1806.20,172.11)"
   ]
  },
  {
   "cell_type": "code",
   "execution_count": 12,
   "id": "77df8c6e",
   "metadata": {},
   "outputs": [
    {
     "data": {
      "text/plain": [
       "0.3411106562969026"
      ]
     },
     "execution_count": 12,
     "metadata": {},
     "output_type": "execute_result"
    }
   ],
   "source": [
    "bar"
   ]
  },
  {
   "cell_type": "code",
   "execution_count": 13,
   "id": "73711352",
   "metadata": {
    "scrolled": true
   },
   "outputs": [
    {
     "name": "stdout",
     "output_type": "stream",
     "text": [
      "6\n",
      "c2_new.txt\n"
     ]
    }
   ],
   "source": [
    "filename = file_list[0]\n",
    "start = []\n",
    "\n",
    "file = open (filename,\"r\")\n",
    "for num,value in enumerate(file):\n",
    "    if \"<polyline label=\" in value :\n",
    "        start.append(num)\n",
    "\n",
    "start = np.array(start)\n",
    "\n",
    "\n",
    "print(len(start))\n",
    "print(filename)"
   ]
  },
  {
   "cell_type": "code",
   "execution_count": 14,
   "id": "0e67954d",
   "metadata": {
    "scrolled": true
   },
   "outputs": [
    {
     "data": {
      "text/plain": [
       "array([42, 44, 48, 50, 54, 56])"
      ]
     },
     "execution_count": 14,
     "metadata": {},
     "output_type": "execute_result"
    }
   ],
   "source": [
    "start"
   ]
  },
  {
   "cell_type": "code",
   "execution_count": 15,
   "id": "42f0c646",
   "metadata": {},
   "outputs": [],
   "source": [
    "point_coordinate = []\n",
    "for i in range (len(start)):\n",
    "    line_number = start[i]\n",
    "    with open (filename,\"r\") as f:\n",
    "        a = f.readlines()[line_number]\n",
    "        point_coordinate.append(a)"
   ]
  },
  {
   "cell_type": "code",
   "execution_count": 16,
   "id": "44d5a5f7",
   "metadata": {},
   "outputs": [],
   "source": [
    "coordinate = []\n",
    "for line in point_coordinate:\n",
    "    line = line[71:-15]\n",
    "    coordinate.append(line)"
   ]
  },
  {
   "cell_type": "code",
   "execution_count": 17,
   "id": "654fffe9",
   "metadata": {
    "scrolled": true
   },
   "outputs": [
    {
     "data": {
      "text/plain": [
       "['948.20,919.50;966.00,924.81;984.56,927.84;1003.12,930.11;1020.55,933.52',\n",
       " '943.67,948.22;961.47,953.52;980.03,956.55;998.59,958.82;1016.02,962.23',\n",
       " '1442.86,1314.32;1450.86,1317.49;1458.74,1321.05;1467.50,1324.48;1480.07,1329.56',\n",
       " '1435.81,1327.65;1443.81,1330.83;1451.69,1334.39;1460.45,1337.82;1473.03,1342.90',\n",
       " '1002.35,1118.52;1017.08,1119.61;1033.44,1120.71;1048.17,1120.71;1068.35,1120.71',\n",
       " '1006.45,1086.36;1021.18,1087.45;1037.54,1088.54;1052.27,1088.54;1072.45,1088.54']"
      ]
     },
     "execution_count": 17,
     "metadata": {},
     "output_type": "execute_result"
    }
   ],
   "source": [
    "coordinate"
   ]
  },
  {
   "cell_type": "code",
   "execution_count": 18,
   "id": "12dcdcf8",
   "metadata": {},
   "outputs": [],
   "source": [
    "\n",
    "test = coordinate[0]\n"
   ]
  },
  {
   "cell_type": "code",
   "execution_count": 19,
   "id": "06500603",
   "metadata": {
    "scrolled": true
   },
   "outputs": [],
   "source": [
    "test_new = re.split(r'[;,,]\\s*', test)\n",
    "float_test = [np.float(i) for i in test_new]"
   ]
  },
  {
   "cell_type": "code",
   "execution_count": 20,
   "id": "367bc7ca",
   "metadata": {},
   "outputs": [
    {
     "data": {
      "text/plain": [
       "[948.2, 919.5, 966.0, 924.81, 984.56, 927.84, 1003.12, 930.11, 1020.55, 933.52]"
      ]
     },
     "execution_count": 20,
     "metadata": {},
     "output_type": "execute_result"
    }
   ],
   "source": [
    "float_test\n"
   ]
  },
  {
   "cell_type": "code",
   "execution_count": 21,
   "id": "f946bab4",
   "metadata": {
    "scrolled": false
   },
   "outputs": [
    {
     "name": "stdout",
     "output_type": "stream",
     "text": [
      "[948.2, 966.0, 984.56, 1003.12, 1020.55]\n",
      "[919.5, 924.81, 927.84, 930.11, 933.52]\n"
     ]
    }
   ],
   "source": [
    "range_data = float_test\n",
    "list_x1 = []\n",
    "list_y1 = []\n",
    "for i in range_data:\n",
    "    lem_a = range_data.index(i)\n",
    "    if (lem_a%2) == 0:\n",
    "        list_x1.append(i)\n",
    "        \n",
    "        #a  += 1\n",
    "\n",
    "    else:\n",
    "        list_y1.append(i)\n",
    "        #a  += 1\n",
    "\n",
    "print (list_x1)\n",
    "print (list_y1)"
   ]
  },
  {
   "cell_type": "code",
   "execution_count": 22,
   "id": "69f01d37",
   "metadata": {},
   "outputs": [
    {
     "data": {
      "text/plain": [
       "3.0"
      ]
     },
     "execution_count": 22,
     "metadata": {},
     "output_type": "execute_result"
    }
   ],
   "source": [
    "len(coordinate)/2"
   ]
  },
  {
   "cell_type": "code",
   "execution_count": 23,
   "id": "55951c2e",
   "metadata": {},
   "outputs": [],
   "source": [
    "def dis(x1,y1,x2,y2):\n",
    "    p1 = np.array([x1,y1])\n",
    "    p2 = np.array([x2,y2])\n",
    "    p3 = p2 - p1\n",
    "    distance = math.hypot(p3[0],p3[1])\n",
    "    return distance"
   ]
  },
  {
   "cell_type": "code",
   "execution_count": 24,
   "id": "c3276830",
   "metadata": {
    "scrolled": true
   },
   "outputs": [
    {
     "name": "stdout",
     "output_type": "stream",
     "text": [
      "9.915118340686845\n",
      "5.14587293527047\n",
      "11.06093872088464\n"
     ]
    }
   ],
   "source": [
    "for i in range(int(len(coordinate)/2)):\n",
    "    index_l1 = i*2\n",
    "    index_l2 = index_l1 +1\n",
    "    l1_point = coordinate[index_l1]\n",
    "    l2_point = coordinate[index_l2]\n",
    "    \n",
    "    l1_point = re.split(r'[;,,]\\s*', l1_point)\n",
    "    float_l1_point = [np.float(i) for i in l1_point]\n",
    "    l2_point = re.split(r'[;,,]\\s*', l2_point)\n",
    "    float_l2_point = [np.float(i) for i in l2_point]\n",
    "    \n",
    "    range_data = float_l1_point\n",
    "    list_x1 = []\n",
    "    list_y1 = []\n",
    "    for j in range_data:\n",
    "        lem_a = range_data.index(j)\n",
    "        if (lem_a%2) == 0:\n",
    "            list_x1.append(j)\n",
    "            #a = a + 1\n",
    "        else:\n",
    "            list_y1.append(j)\n",
    "            #a = a + 1\n",
    "    #print (list_x1)\n",
    "    #print (list_y1)\n",
    "\n",
    "    range_data = float_l2_point\n",
    "    list_x2 = []\n",
    "    list_y2 = []\n",
    "    for k in range_data:\n",
    "        lem_a = range_data.index(k)\n",
    "        if (lem_a%2) == 0:\n",
    "            list_x2.append(k)\n",
    "            #a = a + 1\n",
    "        else:\n",
    "            list_y2.append(k)\n",
    "            #a = a + 1\n",
    "    #print (list_x2)\n",
    "    #print (list_y2)\n",
    "    distance_all = 0\n",
    "    for p in range (len(list_x2)):\n",
    "        \n",
    "        x1 = list_x1[p]\n",
    "        y1 = list_y1[p]\n",
    "        x2 = list_x2[p]\n",
    "        y2 = list_y2[p]\n",
    "        distance = dis(x1,y1,x2,y2)\n",
    "        distance_all = distance_all + distance\n",
    "    distance_all = distance_all/len(list_x2)\n",
    "    print(distance_all*bar)\n",
    "    \n",
    "    \n",
    "    "
   ]
  },
  {
   "cell_type": "code",
   "execution_count": null,
   "id": "89334f61",
   "metadata": {},
   "outputs": [],
   "source": []
  },
  {
   "cell_type": "code",
   "execution_count": null,
   "id": "beb66ac9",
   "metadata": {},
   "outputs": [],
   "source": []
  }
 ],
 "metadata": {
  "kernelspec": {
   "display_name": "Python 3",
   "language": "python",
   "name": "python3"
  },
  "language_info": {
   "codemirror_mode": {
    "name": "ipython",
    "version": 3
   },
   "file_extension": ".py",
   "mimetype": "text/x-python",
   "name": "python",
   "nbconvert_exporter": "python",
   "pygments_lexer": "ipython3",
   "version": "3.6.13"
  }
 },
 "nbformat": 4,
 "nbformat_minor": 5
}
